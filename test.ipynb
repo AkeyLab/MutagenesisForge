{
 "cells": [
  {
   "cell_type": "code",
   "execution_count": 1,
   "id": "f9489dde",
   "metadata": {},
   "outputs": [],
   "source": [
    "import MutagenesisForge as mf"
   ]
  },
  {
   "cell_type": "code",
   "execution_count": null,
   "id": "1d320f55",
   "metadata": {},
   "outputs": [
    {
     "ename": "TypeError",
     "evalue": "context() missing 12 required positional arguments: 'fasta', 'vcf', 'bed', 'model', 'alpha', 'beta', 'gamma', 'pi_a', 'pi_c', 'pi_g', 'pi_t', and 'context_model'",
     "output_type": "error",
     "traceback": [
      "\u001b[0;31m---------------------------------------------------------------------------\u001b[0m",
      "\u001b[0;31mTypeError\u001b[0m                                 Traceback (most recent call last)",
      "Cell \u001b[0;32mIn[2], line 1\u001b[0m\n\u001b[0;32m----> 1\u001b[0m \u001b[43mmf\u001b[49m\u001b[38;5;241;43m.\u001b[39;49m\u001b[43mcontext\u001b[49m\u001b[43m(\u001b[49m\u001b[43m)\u001b[49m\n",
      "\u001b[0;31mTypeError\u001b[0m: context() missing 12 required positional arguments: 'fasta', 'vcf', 'bed', 'model', 'alpha', 'beta', 'gamma', 'pi_a', 'pi_c', 'pi_g', 'pi_t', and 'context_model'"
     ]
    }
   ],
   "source": []
  }
 ],
 "metadata": {
  "kernelspec": {
   "display_name": "mutagenesisforge-7QwQvyxo-py3.10",
   "language": "python",
   "name": "python3"
  },
  "language_info": {
   "codemirror_mode": {
    "name": "ipython",
    "version": 3
   },
   "file_extension": ".py",
   "mimetype": "text/x-python",
   "name": "python",
   "nbconvert_exporter": "python",
   "pygments_lexer": "ipython3",
   "version": "3.10.9"
  }
 },
 "nbformat": 4,
 "nbformat_minor": 5
}
