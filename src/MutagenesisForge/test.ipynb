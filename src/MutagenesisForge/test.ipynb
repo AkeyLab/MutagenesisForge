{
 "cells": [
  {
   "cell_type": "code",
   "execution_count": 1,
   "id": "b163aef8",
   "metadata": {},
   "outputs": [],
   "source": [
    "from exhaustive import exhaustive"
   ]
  },
  {
   "cell_type": "code",
   "execution_count": 15,
   "id": "4fbc28bf",
   "metadata": {},
   "outputs": [
    {
     "name": "stdout",
     "output_type": "stream",
     "text": [
      "dN/dS estimate (random model): 3.356950003360457\n",
      "dN/dS estimate (JC69 model, gamma=0.1): 3.356950003360457\n",
      "dN/dS estimate (K2P model, gamma=0.1, alpha=0.5, beta=0.5): 2.201970506657141\n",
      "dN/dS estimate (HKY model, gamma=0.1, alpha=0.5, beta=0.5): 2.1808679268256146\n"
     ]
    }
   ],
   "source": [
    "fasta_path = \"../../tiny.fa\"\n",
    "\n",
    "# Run with default parameters (random mutation model)\n",
    "dnds_value = exhaustive(path=fasta_path)\n",
    "print(f\"dN/dS estimate (random model): {dnds_value}\")\n",
    "\n",
    "# Test JC69 model with gamma parameter, e.g. gamma=0.1\n",
    "try:\n",
    "    dnds_jc69 = exhaustive(path=fasta_path, model=\"JC69\", gamma=1)\n",
    "    print(f\"dN/dS estimate (JC69 model, gamma=0.1): {dnds_jc69}\")\n",
    "except Exception as e:\n",
    "    print(f\"JC69 model test failed: {e}\")\n",
    "\n",
    "# test K2P model with gamma parameter, e.g. gamma=0.1, alpha=0.5, beta=0.5\n",
    "try:\n",
    "    dnds_k2p = exhaustive(path=fasta_path, model=\"K2P\", gamma=1, alpha=10, beta=0.5)\n",
    "    print(f\"dN/dS estimate (K2P model, gamma=0.1, alpha=0.5, beta=0.5): {dnds_k2p}\")\n",
    "except Exception as e:\n",
    "    print(f\"K2P model test failed: {e}\")\n",
    "\n",
    "# test HKY model with gamma parameter, e.g. gamma=0.1, alpha=0.5, beta=0.5, pi_a=0.25, pi_c=0.25, pi_g=0.25, pi_t=0.25\n",
    "try:\n",
    "    dnds_hky = exhaustive(path=fasta_path, model=\"HKY85\", gamma=1, alpha=10, beta=0.5,\n",
    "                          pi_a=0.25, pi_c=0.25, pi_g=0.2, pi_t=0.25)\n",
    "    print(f\"dN/dS estimate (HKY model, gamma=0.1, alpha=0.5, beta=0.5): {dnds_hky}\")\n",
    "except Exception as e:\n",
    "    print(f\"HKY model test failed: {e}\")\n",
    "\n"
   ]
  },
  {
   "cell_type": "code",
   "execution_count": 13,
   "id": "93da9ee0",
   "metadata": {},
   "outputs": [
    {
     "ename": "UnboundLocalError",
     "evalue": "local variable 'mutation_model' referenced before assignment",
     "output_type": "error",
     "traceback": [
      "\u001b[0;31m---------------------------------------------------------------------------\u001b[0m",
      "\u001b[0;31mUnboundLocalError\u001b[0m                         Traceback (most recent call last)",
      "Cell \u001b[0;32mIn[13], line 1\u001b[0m\n\u001b[0;32m----> 1\u001b[0m dnds_hky \u001b[38;5;241m=\u001b[39m \u001b[43mexhaustive\u001b[49m\u001b[43m(\u001b[49m\u001b[43mpath\u001b[49m\u001b[38;5;241;43m=\u001b[39;49m\u001b[43mfasta_path\u001b[49m\u001b[43m,\u001b[49m\u001b[43m \u001b[49m\u001b[43mmodel\u001b[49m\u001b[38;5;241;43m=\u001b[39;49m\u001b[38;5;124;43m\"\u001b[39;49m\u001b[38;5;124;43mHKY\u001b[39;49m\u001b[38;5;124;43m\"\u001b[39;49m\u001b[43m,\u001b[49m\u001b[43m \u001b[49m\u001b[43mgamma\u001b[49m\u001b[38;5;241;43m=\u001b[39;49m\u001b[38;5;241;43m1\u001b[39;49m\u001b[43m,\u001b[49m\u001b[43m \u001b[49m\u001b[43malpha\u001b[49m\u001b[38;5;241;43m=\u001b[39;49m\u001b[38;5;241;43m10\u001b[39;49m\u001b[43m,\u001b[49m\u001b[43m \u001b[49m\u001b[43mbeta\u001b[49m\u001b[38;5;241;43m=\u001b[39;49m\u001b[38;5;241;43m0.5\u001b[39;49m\u001b[43m,\u001b[49m\n\u001b[1;32m      2\u001b[0m \u001b[43m                          \u001b[49m\u001b[43mpi_a\u001b[49m\u001b[38;5;241;43m=\u001b[39;49m\u001b[38;5;241;43m0.25\u001b[39;49m\u001b[43m,\u001b[49m\u001b[43m \u001b[49m\u001b[43mpi_c\u001b[49m\u001b[38;5;241;43m=\u001b[39;49m\u001b[38;5;241;43m0.25\u001b[39;49m\u001b[43m,\u001b[49m\u001b[43m \u001b[49m\u001b[43mpi_g\u001b[49m\u001b[38;5;241;43m=\u001b[39;49m\u001b[38;5;241;43m0.25\u001b[39;49m\u001b[43m,\u001b[49m\u001b[43m \u001b[49m\u001b[43mpi_t\u001b[49m\u001b[38;5;241;43m=\u001b[39;49m\u001b[38;5;241;43m0.25\u001b[39;49m\u001b[43m)\u001b[49m\n",
      "File \u001b[0;32m/projects/AKEY/akey_vol2/cooper/MutagenesisForge/src/MutagenesisForge/exhaustive.py:89\u001b[0m, in \u001b[0;36mexhaustive\u001b[0;34m(path, bed_path, by_read, model, alpha, beta, gamma, pi_a, pi_c, pi_g, pi_t)\u001b[0m\n\u001b[1;32m     85\u001b[0m possible_mutations \u001b[38;5;241m=\u001b[39m bases \u001b[38;5;241m-\u001b[39m {base}\n\u001b[1;32m     87\u001b[0m \u001b[38;5;28;01mfor\u001b[39;00m mutated_base \u001b[38;5;129;01min\u001b[39;00m possible_mutations:\n\u001b[1;32m     88\u001b[0m     \u001b[38;5;66;03m# Calculate mutation probability using the mutation model\u001b[39;00m\n\u001b[0;32m---> 89\u001b[0m     prob \u001b[38;5;241m=\u001b[39m \u001b[43mmutation_model\u001b[49m\u001b[38;5;241m.\u001b[39mget_mutation_probability(base, mutated_base)\n\u001b[1;32m     90\u001b[0m     mutated_codon \u001b[38;5;241m=\u001b[39m codon[:pos] \u001b[38;5;241m+\u001b[39m mutated_base \u001b[38;5;241m+\u001b[39m codon[pos \u001b[38;5;241m+\u001b[39m \u001b[38;5;241m1\u001b[39m:]\n\u001b[1;32m     91\u001b[0m     mutated_amino \u001b[38;5;241m=\u001b[39m codon_to_amino\u001b[38;5;241m.\u001b[39mget(mutated_codon, \u001b[38;5;28;01mNone\u001b[39;00m)\n",
      "\u001b[0;31mUnboundLocalError\u001b[0m: local variable 'mutation_model' referenced before assignment"
     ]
    }
   ],
   "source": [
    "dnds_hky = exhaustive(path=fasta_path, model=\"HKY\", gamma=1, alpha=10, beta=0.5,\n",
    "                          pi_a=0.25, pi_c=0.25, pi_g=0.25, pi_t=0.25)"
   ]
  }
 ],
 "metadata": {
  "kernelspec": {
   "display_name": "mutagenesisforge-7QwQvyxo-py3.10",
   "language": "python",
   "name": "python3"
  },
  "language_info": {
   "codemirror_mode": {
    "name": "ipython",
    "version": 3
   },
   "file_extension": ".py",
   "mimetype": "text/x-python",
   "name": "python",
   "nbconvert_exporter": "python",
   "pygments_lexer": "ipython3",
   "version": "3.10.9"
  }
 },
 "nbformat": 4,
 "nbformat_minor": 5
}
