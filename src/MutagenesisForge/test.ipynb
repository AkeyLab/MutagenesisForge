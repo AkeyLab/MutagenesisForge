{
 "cells": [
  {
   "cell_type": "code",
   "execution_count": 2,
   "id": "b163aef8",
   "metadata": {},
   "outputs": [],
   "source": [
    "from exhaustive import exhaustive"
   ]
  },
  {
   "cell_type": "code",
   "execution_count": 3,
   "id": "4fbc28bf",
   "metadata": {},
   "outputs": [
    {
     "name": "stdout",
     "output_type": "stream",
     "text": [
      "dN/dS estimate (random model): 3.356950003360457\n",
      "dN/dS estimate (JC69 model, gamma=0.1): 3.356950003360457\n",
      "dN/dS estimate (K2P model, gamma=0.1, alpha=0.5, beta=0.5): 2.201970506657141\n",
      "dN/dS estimate (HKY model, gamma=0.1, alpha=0.5, beta=0.5): 2.180867926825615\n"
     ]
    }
   ],
   "source": [
    "fasta_path = \"../../tiny.fa\"\n",
    "\n",
    "# Run with default parameters (random mutation model)\n",
    "dnds_value = exhaustive(path=fasta_path)\n",
    "print(f\"dN/dS estimate (random model): {dnds_value}\")\n",
    "\n",
    "# Test JC69 model with gamma parameter, e.g. gamma=0.1\n",
    "try:\n",
    "    dnds_jc69 = exhaustive(path=fasta_path, model=\"JC69\", gamma=1)\n",
    "    print(f\"dN/dS estimate (JC69 model, gamma=0.1): {dnds_jc69}\")\n",
    "except Exception as e:\n",
    "    print(f\"JC69 model test failed: {e}\")\n",
    "\n",
    "# test K2P model with gamma parameter, e.g. gamma=0.1, alpha=0.5, beta=0.5\n",
    "try:\n",
    "    dnds_k2p = exhaustive(path=fasta_path, model=\"K2P\", gamma=1, alpha=10, beta=0.5)\n",
    "    print(f\"dN/dS estimate (K2P model, gamma=0.1, alpha=0.5, beta=0.5): {dnds_k2p}\")\n",
    "except Exception as e:\n",
    "    print(f\"K2P model test failed: {e}\")\n",
    "\n",
    "# test HKY model with gamma parameter, e.g. gamma=0.1, alpha=0.5, beta=0.5, pi_a=0.25, pi_c=0.25, pi_g=0.25, pi_t=0.25\n",
    "try:\n",
    "    dnds_hky = exhaustive(path=fasta_path, model=\"HKY85\", gamma=1, alpha=10, beta=0.5,\n",
    "                          pi_a=0.25, pi_c=0.25, pi_g=0.2, pi_t=0.25)\n",
    "    print(f\"dN/dS estimate (HKY model, gamma=0.1, alpha=0.5, beta=0.5): {dnds_hky}\")\n",
    "except Exception as e:\n",
    "    print(f\"HKY model test failed: {e}\")\n",
    "\n"
   ]
  }
 ],
 "metadata": {
  "kernelspec": {
   "display_name": "mutagenesisforge-7QwQvyxo-py3.10",
   "language": "python",
   "name": "python3"
  },
  "language_info": {
   "codemirror_mode": {
    "name": "ipython",
    "version": 3
   },
   "file_extension": ".py",
   "mimetype": "text/x-python",
   "name": "python",
   "nbconvert_exporter": "python",
   "pygments_lexer": "ipython3",
   "version": "3.10.9"
  }
 },
 "nbformat": 4,
 "nbformat_minor": 5
}
