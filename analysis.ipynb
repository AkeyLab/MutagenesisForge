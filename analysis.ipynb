{
 "cells": [
  {
   "cell_type": "code",
   "execution_count": 29,
   "id": "baa89688",
   "metadata": {},
   "outputs": [],
   "source": [
    "import src.MutagenesisForge as mf"
   ]
  },
  {
   "cell_type": "markdown",
   "id": "cd2adaae",
   "metadata": {},
   "source": [
    "Testing the software"
   ]
  },
  {
   "cell_type": "code",
   "execution_count": 2,
   "id": "7dec466e",
   "metadata": {},
   "outputs": [
    {
     "data": {
      "text/plain": [
       "3.138390379278446"
      ]
     },
     "execution_count": 2,
     "metadata": {},
     "output_type": "execute_result"
    }
   ],
   "source": [
    "# simulate dN/dS values using MutagenesisForge\n",
    "mf.exhaustive(\n",
    "    fasta=\"BRCA.fasta\",\n",
    "    model=\"K2P\",\n",
    "    gamma=1,\n",
    "    alpha=2,\n",
    "    beta=1,\n",
    ")"
   ]
  },
  {
   "cell_type": "code",
   "execution_count": 3,
   "id": "9052ecd8",
   "metadata": {},
   "outputs": [
    {
     "data": {
      "text/plain": [
       "3.9040463795551346"
      ]
     },
     "execution_count": 3,
     "metadata": {},
     "output_type": "execute_result"
    }
   ],
   "source": [
    "mf.exhaustive(\n",
    "    fasta=\"BRCA.fasta\",\n",
    "    model=\"F81\",\n",
    "    gamma=1,\n",
    "    pi_a=0.3,\n",
    "    pi_c=0.2,\n",
    "    pi_g=0.2,\n",
    "    pi_t=0.3,\n",
    ")"
   ]
  },
  {
   "cell_type": "code",
   "execution_count": 4,
   "id": "338ebb3a",
   "metadata": {},
   "outputs": [
    {
     "data": {
      "text/plain": [
       "1.0538639999999997"
      ]
     },
     "execution_count": 4,
     "metadata": {},
     "output_type": "execute_result"
    }
   ],
   "source": [
    "mf.exhaustive(\n",
    "    fasta=\"BRCA.fasta\",\n",
    "    model=\"JC69\",\n",
    "    gamma=0.000238,\n",
    ")"
   ]
  },
  {
   "cell_type": "code",
   "execution_count": 5,
   "id": "ab845254",
   "metadata": {},
   "outputs": [
    {
     "data": {
      "text/plain": [
       "3.804123711340207"
      ]
     },
     "execution_count": 5,
     "metadata": {},
     "output_type": "execute_result"
    }
   ],
   "source": [
    "mf.exhaustive(\n",
    "    fasta=\"BRCA.fasta\",\n",
    "    model=\"JC69\",\n",
    "    gamma=1,\n",
    ")"
   ]
  },
  {
   "cell_type": "code",
   "execution_count": 6,
   "id": "7bdf95e5",
   "metadata": {},
   "outputs": [
    {
     "data": {
      "text/plain": [
       "3.702276707530648"
      ]
     },
     "execution_count": 6,
     "metadata": {},
     "output_type": "execute_result"
    }
   ],
   "source": [
    "# simulate dN/dS values using MutagenesisForge\n",
    "mf.exhaustive(\n",
    "    fasta=\"PRDM9.fasta\",\n",
    "    model=\"JC69\",\n",
    "    gamma=1\n",
    ")"
   ]
  },
  {
   "cell_type": "code",
   "execution_count": 7,
   "id": "f8793098",
   "metadata": {},
   "outputs": [
    {
     "data": {
      "text/plain": [
       "3.3965517241379306"
      ]
     },
     "execution_count": 7,
     "metadata": {},
     "output_type": "execute_result"
    }
   ],
   "source": [
    "mf.exhaustive(\n",
    "    fasta=\"OR7E24.fasta\",\n",
    "    model=\"JC69\",\n",
    "    gamma=1,\n",
    ")"
   ]
  },
  {
   "cell_type": "code",
   "execution_count": 8,
   "id": "b009fad8",
   "metadata": {},
   "outputs": [
    {
     "data": {
      "text/plain": [
       "2.9080459770114953"
      ]
     },
     "execution_count": 8,
     "metadata": {},
     "output_type": "execute_result"
    }
   ],
   "source": [
    "mf.exhaustive(\n",
    "    fasta=\"OR7E24.fasta\",\n",
    "    model=\"K2P\",\n",
    "    gamma=1,\n",
    "    alpha=2,\n",
    "    beta=1\n",
    ")"
   ]
  },
  {
   "cell_type": "code",
   "execution_count": 9,
   "id": "d508723a",
   "metadata": {},
   "outputs": [
    {
     "data": {
      "text/plain": [
       "3.649183344835518"
      ]
     },
     "execution_count": 9,
     "metadata": {},
     "output_type": "execute_result"
    }
   ],
   "source": [
    "mf.exhaustive(\n",
    "    fasta=\"PRDM9.fasta\",\n",
    "    model=\"F81\",\n",
    "    gamma=1,\n",
    "    pi_a=0.3,\n",
    "    pi_c=0.2,\n",
    "    pi_g=0.2,\n",
    "    pi_t=0.3,\n",
    ")"
   ]
  },
  {
   "cell_type": "code",
   "execution_count": 10,
   "id": "9208f767",
   "metadata": {},
   "outputs": [
    {
     "data": {
      "text/plain": [
       "2.7719167904903426"
      ]
     },
     "execution_count": 10,
     "metadata": {},
     "output_type": "execute_result"
    }
   ],
   "source": [
    "mf.exhaustive(\n",
    "    fasta=\"OR7E24.fasta\",\n",
    "    model=\"HKY85\",\n",
    "    gamma=1,\n",
    "    pi_a=0.3,\n",
    "    pi_c=0.2,\n",
    "    pi_g=0.2,\n",
    "    pi_t=0.3,\n",
    "    alpha=2,\n",
    "    beta=1,\n",
    ")"
   ]
  },
  {
   "cell_type": "code",
   "execution_count": 11,
   "id": "488aa6f2",
   "metadata": {},
   "outputs": [
    {
     "data": {
      "text/plain": [
       "3.2683236114633547"
      ]
     },
     "execution_count": 11,
     "metadata": {},
     "output_type": "execute_result"
    }
   ],
   "source": [
    "mf.exhaustive(\n",
    "    fasta=\"OR7E24.fasta\",\n",
    "    model=\"K3P\",\n",
    "    gamma=1,\n",
    "    omega=0.5,\n",
    "    alpha=2,\n",
    "    beta=1,\n",
    ")"
   ]
  },
  {
   "cell_type": "code",
   "execution_count": 12,
   "id": "1b8af625",
   "metadata": {},
   "outputs": [],
   "source": [
    "model = mf.MutationModel(\n",
    "    model_type=\"K2P\",\n",
    "\n",
    ")"
   ]
  },
  {
   "cell_type": "code",
   "execution_count": 13,
   "id": "f78bf4db",
   "metadata": {},
   "outputs": [
    {
     "data": {
      "text/plain": [
       "'T'"
      ]
     },
     "execution_count": 13,
     "metadata": {},
     "output_type": "execute_result"
    }
   ],
   "source": [
    "model.mutate(\n",
    "    base='A'\n",
    ")"
   ]
  },
  {
   "cell_type": "code",
   "execution_count": 28,
   "id": "381c5a07",
   "metadata": {},
   "outputs": [
    {
     "name": "stderr",
     "output_type": "stream",
     "text": [
      "[W::vcf_parse] Contig '17' is not defined in the header. (Quick workaround: index the file with tabix.)\n"
     ]
    },
    {
     "data": {
      "text/plain": [
       "0.3842721695482431"
      ]
     },
     "execution_count": 28,
     "metadata": {},
     "output_type": "execute_result"
    }
   ],
   "source": [
    "mf.context2(\n",
    "    fasta=\"/projects/AKEY/akey_vol2/References/Genomes/hs37d5/hs37d5.fa\",\n",
    "    vcf=\"filtered_common_variants_BRCA.vcf\",\n",
    "    model=\"K2P\"\n",
    ")"
   ]
  }
 ],
 "metadata": {
  "kernelspec": {
   "display_name": "mutagenesisforge-7QwQvyxo-py3.10",
   "language": "python",
   "name": "python3"
  },
  "language_info": {
   "codemirror_mode": {
    "name": "ipython",
    "version": 3
   },
   "file_extension": ".py",
   "mimetype": "text/x-python",
   "name": "python",
   "nbconvert_exporter": "python",
   "pygments_lexer": "ipython3",
   "version": "3.10.9"
  }
 },
 "nbformat": 4,
 "nbformat_minor": 5
}
